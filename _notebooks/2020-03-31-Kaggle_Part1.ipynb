{
  "cells": [
    {
      "cell_type": "markdown",
      "metadata": {
        "id": "zlUZIGnLcBWW",
        "colab_type": "text"
      },
      "source": [
        "# 実践機械学習勉強会 Part 1 Metrics\n",
        "> 予測モデルの評価指標に関して、最適化も含め学ぶ。\n",
        "\n",
        "- toc: true \n",
        "- badges: false\n",
        "- comments: true\n",
        "- categories: [実践機械学習]\n",
        "- image: images/ML_logo.png"
      ]
    },
    {
      "cell_type": "markdown",
      "metadata": {
        "id": "C5dcD-ZJeQ9O",
        "colab_type": "text"
      },
      "source": [
        "参考図書 {% fn 1 %}"
      ]
    },
    {
      "cell_type": "markdown",
      "metadata": {
        "id": "43FucmyQRIMr",
        "colab_type": "text"
      },
      "source": [
        "# 回帰問題（Regression）に使われる評価指標\n",
        "  - MSE, RMSE, R-squared\n",
        "  - MAE\n",
        "  - (R)MSPE, MAPE\n",
        "  - (R)MSLE"
      ]
    },
    {
      "cell_type": "markdown",
      "metadata": {
        "id": "8vRZMte_U9uX",
        "colab_type": "text"
      },
      "source": [
        "notation\n",
        "  - $N$ : オブジェクト数\n",
        "  - $y\\in\\mathbb{R}^N$ : ターゲット値のN次元ベクトル\n",
        "  - $\\hat y\\in\\mathbb{R}^N$ : 予測値のN次元ベクトル\n",
        "  - $y_i\\in\\mathbb{R}$ : オブジェクト$x_i$のターゲット値\n",
        "  - $\\hat y_i\\in\\mathbb{R}$ : オブジェクト$x_i$の予測値\n",
        "  "
      ]
    },
    {
      "cell_type": "markdown",
      "metadata": {
        "id": "tPFlvssGZigZ",
        "colab_type": "text"
      },
      "source": [
        "## MSE, RMSE, R-squared"
      ]
    },
    {
      "cell_type": "markdown",
      "metadata": {
        "id": "_iNOBc97Zo3O",
        "colab_type": "text"
      },
      "source": [
        "### MSE: Mean Square Error \n",
        "\n",
        "$$MSE(y,\\hat y)=\\frac{1}{N}\\sum^N_{i=1}(y_i-\\hat y_i)^2$$\n",
        "\n",
        "評価指標の特性を考える際、一定の予測値$\\hat y_i = \\alpha$がどの値をとる時に一番良い評価指標の値が得られるかを考えると良く、今回は\n",
        "\n",
        "$$ \n",
        "\\min_{\\alpha} f(\\alpha) = \\frac{1}{N} \\sum_{i=1}^N (\\alpha - y_i)^2\n",
        "$$\n",
        "\n",
        "のように$\\alpha$に関して微分可能な関数$f(\\alpha)$の最小化問題に帰結できます。これを満たす$\\alpha^*$の必要条件は\n",
        "\n",
        "$$\n",
        "\\frac{d f}{d \\alpha}\\bigg|_{\\alpha=\\alpha^*} = 0\\\n",
        "$$\n",
        "\n",
        "となります。よってこれを解くと、\n",
        "$$\n",
        "\\frac{d f}{d \\alpha}\\bigg|_{\\alpha=\\alpha^*} = \\frac{2}{N} \\sum_{i=1}^N (\\alpha^* - y_i) = 0\n",
        "$$\n",
        "\n",
        "$$\n",
        "\\frac{2}{N} \\sum_{i=1}^N \\alpha^* - \\frac{2}{N} \\sum_{i=1}^N y_i = 0\n",
        "$$\n",
        "\n",
        "$$\n",
        " \\alpha^* - \\frac{1}{N} \\sum_{i=1}^N y_i = 0\n",
        "$$\n",
        "\n",
        "より、\n",
        "$$\n",
        " \\alpha^* =  \\frac{1}{N} \\sum_{i=1}^N y_i(=\\bar y)\n",
        "$$\n",
        "\n",
        "$\\alpha^*$における２次導関数 $\\frac{d^2 f}{d \\alpha^2}$ は正なのでMSEにおけるbest constantは、ターゲット値の平均(target mean value)となります。\n"
      ]
    },
    {
      "cell_type": "markdown",
      "metadata": {
        "id": "CtiZXqFembe8",
        "colab_type": "text"
      },
      "source": [
        "### RMSE: Root Mean Square Error\n",
        "$$\n",
        "RMSE=\\sqrt{MSE}\n",
        "$$\n",
        "$$\n",
        "\\frac{\\partial RMSE}{\\partial\\hat y_i}=\\frac{1}{2\\sqrt{MSE}}\\frac{\\partial MSE}{\\partial\\hat y_i}\n",
        "$$"
      ]
    },
    {
      "cell_type": "markdown",
      "metadata": {
        "id": "YeNWdBT6p3o8",
        "colab_type": "text"
      },
      "source": [
        "### R-squared\n",
        "$$\n",
        "R^2=1-\\frac{MSE}{\\frac{1}{N}\\sum^N_{i=1}(y_i-\\bar y)^2}\n",
        "$$"
      ]
    },
    {
      "cell_type": "markdown",
      "metadata": {
        "id": "rR3DLokLhqJM",
        "colab_type": "text"
      },
      "source": [
        "### 最適化の仕方\n",
        "MSE・RMSE・R-squaredは基本的に同じ意味を持つ評価指標で、また最適化する際もそのまま目的関数として使用することができます。詳しくは各ライブラリのdocを読みましょう。"
      ]
    },
    {
      "cell_type": "markdown",
      "metadata": {
        "id": "0J9l9QoMqNLZ",
        "colab_type": "text"
      },
      "source": [
        "## MAE: Mean Absolute Error\n",
        "$$ \n",
        "MAE(y, \\hat y) = \\frac{1}{N} \\sum_{i=1}^N |\\hat y_i - y_i|\n",
        "$$\n",
        "同様にbest constant $\\alpha^*$を求めてみましょう。\n",
        "$$ \n",
        "\\min_{\\alpha} f(\\alpha) = \\frac{1}{N} \\sum_{i=1}^N |\\alpha - y_i|\n",
        "$$"
      ]
    },
    {
      "cell_type": "markdown",
      "metadata": {
        "id": "ZKpdRbsoq93S",
        "colab_type": "text"
      },
      "source": [
        "ここで $ \\frac{\\partial |x|}{dx} = sign(x)$（$sign$ は [符号関数]((https://ja.m.wikipedia.org/wiki/符号関数), [signum function](https://en.wikipedia.org/wiki/Sign_function)を指す）であるので、\n",
        "$$\n",
        "\\frac{d f}{d \\alpha}\\bigg|_{\\alpha=\\alpha^*} = \\frac{1}{N} \\sum_{i=1}^N sign(\\alpha^* - y_i) = 0\n",
        "$$"
      ]
    },
    {
      "cell_type": "markdown",
      "metadata": {
        "id": "ySBlMyKdspkd",
        "colab_type": "text"
      },
      "source": [
        "定数項を無視すると、\n",
        "$$\n",
        "g(\\alpha^*) = \\sum_{i=1}^N sign(\\alpha^* - y_i) = 0\n",
        "$$\n",
        "をみたす $\\alpha^*$ を求めればよいことが分かります。例えばここで、ターゲットのN次元ベクトルが$y=[-3,-1,-1.5,0,1,2,3]$とすると、$g(\\alpha)$のグラフは以下のようになります。"
      ]
    },
    {
      "cell_type": "code",
      "metadata": {
        "id": "c-wP2lACQvpT",
        "colab_type": "code",
        "colab": {
          "base_uri": "https://localhost:8080/",
          "height": 442
        },
        "outputId": "60a4cb18-3b32-44ec-f675-88a5daceb8a8"
      },
      "source": [
        "#collapse-hide\n",
        "import numpy as np\n",
        "import matplotlib.pyplot as plt\n",
        "%matplotlib inline\n",
        "\n",
        "def sgn(x,y):\n",
        "  if x < y:\n",
        "    return -1\n",
        "  elif x == y:\n",
        "    return 0\n",
        "  else:\n",
        "    return 1\n",
        "\n",
        "def g(alpha,y):\n",
        "  total = 0\n",
        "  for i in y:\n",
        "    total += sgn(alpha,i)\n",
        "  return total\n",
        "\n",
        "y = np.array([-3,-1,-1.5,0,1,2,3])\n",
        "alpha = np.arange(y.min()-0.5,y.max()+0.5,0.01)\n",
        "median = np.median(y)\n",
        "\n",
        "gs_a = []\n",
        "for a in alpha:\n",
        "  gs_a.append(g(a,y))\n",
        "\n",
        "gs_y = []\n",
        "for yi in y:\n",
        "  gs_y.append(g(yi,y))\n",
        "\n",
        "plt.figure(figsize=(10,7))\n",
        "plt.xlabel(\"α\")\n",
        "plt.ylabel('g(α)')\n",
        "plt.xlim(alpha.min()-0.1,alpha.max()+0.1)\n",
        "plt.ylim(-len(y)-0.5,len(y)+0.5)\n",
        "plt.plot(alpha,gs_a,label='g(α)')\n",
        "plt.scatter(y,gs_y,label='g($y_i$)')\n",
        "plt.scatter(median,g(median,y),label='median')\n",
        "plt.legend(loc='upper left')\n",
        "plt.show()"
      ],
      "execution_count": 1,
      "outputs": [
        {
          "output_type": "display_data",
          "data": {
            "image/png": "[encoded data removed]",
            "text/plain": [
              "<Figure size 720x504 with 1 Axes>"
            ]
          },
          "metadata": {
            "tags": []
          }
        }
      ]
    },
    {
      "cell_type": "markdown",
      "metadata": {
        "id": "wvGJS-7c3Izh",
        "colab_type": "text"
      },
      "source": [
        "このように、値がN回不連続的に飛び飛びの値をとることがわかり、０になるには約$\\frac{N}{2}$回飛ばなければならないことが分かります。グラフの様にその値はターゲットの中央値（target median）となることが分かります。Nが偶数奇数の場合分けが必要ですが、いずれの場合もbest constantはtarget medianとなります。"
      ]
    },
    {
      "cell_type": "markdown",
      "metadata": {
        "id": "NyIkxemAPoVO",
        "colab_type": "text"
      },
      "source": [
        "> note: MAEのbest constantはターゲットの中央値であることから、MAEはターゲットの外れ値（outliers）の影響を受けずらいことが分かる。一方MSEはoutliersの影響を受けやすい。よって、ターゲットにouteliersを含む場合はMAEがよりrobustな評価指標と言える。"
      ]
    },
    {
      "cell_type": "markdown",
      "metadata": {
        "id": "RwtR53WpiQ-T",
        "colab_type": "text"
      },
      "source": [
        "### 最適化の仕方\n",
        "MAEも目的関数として扱うことができますが、$\\hat y_i=y_i$の時に微分可能でないのでsmoothingして0に近いエラーに関しても処理できるようにする必要があります。このsmoothingには様々な方法がありますが、有名なものに[Huber loss](https://en.wikipedia.org/wiki/Huber_loss)があります。0に近い時はMSE、エラーが大きい値ではMAEのような挙動を示す関数です。詳しくは各ライブラリのdocを読みましょう。"
      ]
    },
    {
      "cell_type": "markdown",
      "metadata": {
        "id": "zjGY697NRVeN",
        "colab_type": "text"
      },
      "source": [
        "## (R)MSPE, MAPE: Percentage Error\n",
        "単純なMSEやMAEでは、ターゲットの値が大きい時に同じ精度の予測値に対して過小評価されてしまいます。例えば、\n",
        "$$\n",
        "MSE(10,9)=1\n",
        "$$\n",
        "$$\n",
        "MSE(1000,900)=10000\n",
        "$$\n",
        "のように同じ90％の予測精度でもMSEの値が大きくなることが分かります。そこで、MSE・MAEそれぞれに対し、ターゲット値の逆数で重みを付けた評価指標がそれぞれMSPE・MAPEという訳です。\n",
        "$$\n",
        "MSPE(y,\\hat y)=\\frac{100\\%}{N}\\sum^N_{i=1}(\\frac{y_i-\\hat y_i}{y_i})^2\n",
        "$$\n",
        "$$\n",
        "MAPE(y,\\hat y)=\\frac{100\\%}{N}\\sum^N_{i=1}|\\frac{y_i-\\hat y_i}{y_i}|\n",
        "$$"
      ]
    },
    {
      "cell_type": "markdown",
      "metadata": {
        "id": "gZjPbOF8U7xs",
        "colab_type": "text"
      },
      "source": [
        "それではそれぞれのbest constantはどの値をとるのでしょうか？\n",
        "MSPE、MAPEそれぞれその値は重み付け平均値、重み付け中央値を取ります。小さい値のターゲットに重みを大きくつけた新しいターゲット値の平均、中央値という訳です。ターゲット値に$w_i=\\frac{1/y_i}{\\sum^N_{i=1}1/y_i}$を付加した後、MSE・MAE同様の議論をすれば証明できます。"
      ]
    },
    {
      "cell_type": "markdown",
      "metadata": {
        "id": "JEMhSTBhkCAs",
        "colab_type": "text"
      },
      "source": [
        "### 最適化の仕方\n",
        "MSPE・MAPEを直接モデル最適化の目的関数として扱うことは難しく、以下のステップが必要となります。\n",
        "1. ターゲットの値を用いて各オブジェクト$x_i$に対してSample weights: $w_i$を対応させる\n",
        "2. その重みに従って新たに元のデータからサンプリングを行う\n",
        "3. サンプリングされた新たなデータセットに対して、MSE・MAEを適用する \n",
        "\n",
        "$w_i$に関してはMSPE・MASEについてそれぞれ、\n",
        "$$\n",
        "MSPE: w_i=\\frac{1/y_i^2}{\\sum^N_{i=1}1/y_i^2}\n",
        "$$\n",
        "$$\n",
        "MAPE: w_i=\\frac{1/y_i}{\\sum^N_{i=1}1/y_i}\n",
        "$$\n",
        "となります。\n"
      ]
    },
    {
      "cell_type": "markdown",
      "metadata": {
        "id": "atKuas7RmMAs",
        "colab_type": "text"
      },
      "source": [
        "> note: $w_i$の合計は必ずしも１である必要はない。また、サンプル数はもとのデータセットのオブジェクト数Nを超えても良い。"
      ]
    },
    {
      "cell_type": "markdown",
      "metadata": {
        "id": "ANVBJyY_sEK5",
        "colab_type": "text"
      },
      "source": [
        "## (R)MSLE: (Root) Mean Square Logarithmic Error\n",
        "$$\n",
        "RMSLE(y,\\hat y)=\\sqrt{\\frac{1}{N}\\sum^N_{i=1}(log(y_i+1)-log(\\hat y_i+1))^2} =RMSE(log(y+1),log(\\hat y+1))=\\sqrt{MSE(log(y+1),log(\\hat y+1))}\n",
        "$$\n",
        "こちらもターゲットのスケールによる誤差の見積もり変化に対して、頑強な評価指標です。MSEの対数バージョンということですね。\n",
        "\n",
        "ではbest constantはどの値をとるかというとこの場合はlog spaceでのtarget meanです。log spaceでの平均が分かった後にその値を指数化して戻してあげる必要がありますがコンセプトはMSEと変わりません。"
      ]
    },
    {
      "cell_type": "markdown",
      "metadata": {
        "id": "rtqArLv0tu5g",
        "colab_type": "text"
      },
      "source": [
        "### 最適化の仕方\n",
        "これも単純に目的関数としては使えないので以下のステップが必要です。\n",
        "1. ターゲット値をlog spaceに変換する; $z_i=log(y_i+1)$\n",
        "2. 変換された新しいターゲットに対して、目的関数をMSEに設定しモデルをfitする\n",
        "3. 予測値を指数化し想定されるスケールに戻す; $\\hat y_i=exp(\\hat z_i)-1$\n",
        "\n",
        "詳しくは各ライブラリのdocを読みましょう。"
      ]
    },
    {
      "cell_type": "markdown",
      "metadata": {
        "id": "eCCmFQQfpUAn",
        "colab_type": "text"
      },
      "source": [
        "# 分類問題（Classification）に使われる評価指標\n",
        "  - Accuracy\n",
        "  - Logarithmic Loss\n",
        "  - Area under ROC curve\n",
        "  - (Quadratic weighted) Kappa"
      ]
    },
    {
      "cell_type": "markdown",
      "metadata": {
        "id": "SbuB0UZ6px0N",
        "colab_type": "text"
      },
      "source": [
        "notation\n",
        "  - $N$ : オブジェクト数\n",
        "  - $L$ : カテゴリ数\n",
        "  - $y$ : 真値\n",
        "  - $\\hat y$ : 予測値\n",
        "  - $[a=b]$ : 1 if a=b else 0"
      ]
    },
    {
      "cell_type": "markdown",
      "metadata": {
        "id": "ffuEULyQxOyG",
        "colab_type": "text"
      },
      "source": [
        "## Accuracy\n",
        "$$\n",
        "Accuracy=\\frac{1}{N}\\sum^N_{i=1}[\\hat y_i=y_i]\n",
        "$$\n",
        "この指標はクラス予測がどのくらいの頻度で正しいか表しています。best constantは最も現れる頻度の高いカテゴリ値です。例えばターゲットに猫が10、犬が90あるとしたら、常にイッヌと予測したら0.9が得られ最大となります。"
      ]
    },
    {
      "cell_type": "markdown",
      "metadata": {
        "id": "B5djbMqrxT1D",
        "colab_type": "text"
      },
      "source": [
        "### 最適化の仕方\n",
        "1. 何でもいいのである評価指標でモデルを最適化・fitする\n",
        "2. 最適化済みのモデルの各カテゴリに対する確率予測値に対して、閾値を調節する\n",
        "\n",
        "閾値の最適解によってそのモデルの実力を最も発揮したAccuracyが求められます。\n",
        "詳しくは各ライブラリのdocを読みましょう。"
      ]
    },
    {
      "cell_type": "markdown",
      "metadata": {
        "id": "aogkFllJxWTa",
        "colab_type": "text"
      },
      "source": [
        "## Logarithmic Loss\n",
        "Binary \n",
        "$$\n",
        "LogLoss=-\\frac{1}{N}\\sum^N_{i=1}y_ilog(\\hat y_i)+(1-y_i)log(1-\\hat y_i)\n",
        "$$\n",
        "Multiclass\n",
        "$$\n",
        "LogLoss=-\\frac{1}{N}\\sum^N_{i=1}\\sum^L_{l=1}y_{il}log(\\hat y_{il})\n",
        "$$\n",
        "\n",
        "2値分類と多クラス分類のタスクで上のように書き分けられますが、多クラス分類の方は一般化されている形になっています。実践的には$log$の中身$x$に対して$10^{-15}\\leqq x \\leqq 1-10^{-15}$のようにクリッピングした関数\n",
        "$$\n",
        "LogLoss=-\\frac{1}{N}\\sum^N_{i=1}\\sum^L_{l=1}y_{il}log(min(max(\\hat y_{il},10^{-15}),1-10^{-15}))\n",
        "$$\n",
        "\n",
        "が使われます。下のグラフはターゲットが０の時の予測確率値とLogLossを示していますが、誤ったクラスの予測確率値が大きいほど、つまり間違った答えをはっきりこれだと言ってしまうほど大きいペナルティが課せられることが分かります。"
      ]
    },
    {
      "cell_type": "code",
      "metadata": {
        "id": "SV4KcWE5547O",
        "colab_type": "code",
        "colab": {
          "base_uri": "https://localhost:8080/",
          "height": 453
        },
        "outputId": "be674b0e-125b-446c-b3f6-bd5877e4e9d7"
      },
      "source": [
        "#collapse-hide\n",
        "y_pred = np.arange(0,1,0.01)\n",
        "\n",
        "def logloss(y_pred):\n",
        "  return -np.log(1-y_pred)\n",
        "\n",
        "plt.figure(figsize=(10,7))\n",
        "plt.xlabel(\"$\\hat y$\")\n",
        "plt.ylabel('Loss')\n",
        "plt.xlim(-0.01,1.01)\n",
        "plt.ylim(-0.1,6)\n",
        "plt.plot(y_pred,logloss(y_pred),label='LogLoss')\n",
        "plt.legend(loc='upper left')\n",
        "plt.show()"
      ],
      "execution_count": 2,
      "outputs": [
        {
          "output_type": "display_data",
          "data": {
            "image/png": "[encoded data removed]",
            "text/plain": [
              "<Figure size 720x504 with 1 Axes>"
            ]
          },
          "metadata": {
            "tags": []
          }
        }
      ]
    },
    {
      "cell_type": "markdown",
      "metadata": {
        "id": "XhrVKbqR8omO",
        "colab_type": "text"
      },
      "source": [
        "best constantは各カテゴリの頻度値となります。猫1割、犬9割だったら猫0.1、犬0.9と常に予測するときに最小のLossが得られます。"
      ]
    },
    {
      "cell_type": "markdown",
      "metadata": {
        "id": "_ltJYIh8xbHG",
        "colab_type": "text"
      },
      "source": [
        "### 最適化の仕方\n",
        "これは目的関数として設定できます。そのまま使いましょう。詳しくは各ライブラリのdocを読みましょう。"
      ]
    },
    {
      "cell_type": "markdown",
      "metadata": {
        "id": "ehAjHE3bxePj",
        "colab_type": "text"
      },
      "source": [
        "## Area under ROC curve\n",
        "2値分類においてモデルのNegativeの予測確率値を小さい順に並び替えた時に、ある値より前の対応するターゲットが全てPositive、後は全てNegativeになる場合、閾値を適切に設定すればAccuracy100％の完全なモデルであることが分かります。つまりある閾値を境に綺麗にpositiveからnegativeを予測できていることが理想です。しかし、現実は予測確率をsortした時に対応するターゲットは綺麗に並んでくれはしません。本来positiveの所にnegativeが来てしまうことがあるのです。このようにどれくらい綺麗な並びでpositiveとnegativeを分けられているかを示すのがこの評価指標です。詳しいアルゴリズムは以下の動画が分かりやすく説明しているので参考にして下さい。\n",
        "> youtube: https://www.youtube.com/watch?v=4jRBRDbJemM\n"
      ]
    },
    {
      "cell_type": "markdown",
      "metadata": {
        "id": "H90404T3C19V",
        "colab_type": "text"
      },
      "source": [
        "それではbest constantはどの値をとるのでしょうか。この評価指標のアルゴリズムから分かるように、予測確率の大きさの順番しかこのスコアに影響しないので、どの値でも$AUC=0.5$と同じスコアになります。\n",
        "> note: ランダムに予測した場合予測確率の大小順はばらばらになるので$AUC=0.5$となり、最低値となる。"
      ]
    },
    {
      "cell_type": "markdown",
      "metadata": {
        "id": "AtqOqVi-xiaE",
        "colab_type": "text"
      },
      "source": [
        "### 最適化の仕方\n",
        "これを目的関数として設定できるモデルライブラリがあるのでその場合はそのまま使いましょう。そうでない場合はLogLossを最適化することで代用できます。詳しくは各ライブラリのdocを読みましょう。"
      ]
    },
    {
      "cell_type": "markdown",
      "metadata": {
        "id": "9G9Auar8xlZO",
        "colab_type": "text"
      },
      "source": [
        "## Kappa"
      ]
    },
    {
      "cell_type": "markdown",
      "metadata": {
        "id": "ADAVviNmFos8",
        "colab_type": "text"
      },
      "source": [
        "### Cohen's Kappa \n",
        "お馴染みの例、猫10、犬90の場合、すべて犬と予想するだけで$Accuracy=0.9$となりますが、このようにモデルには最低限これはいけるっしょ的な精度、つまりBaseline Accuracyなるものが存在します。この値でAccuracyをscalingしたものがKappaという指標です。\n",
        "\n",
        "詳しいアルゴリズムについて説明します。\n",
        "例えば猫20、犬80と結果的に予測したとするとこの予測値をオブジェクトごとに適当に並び変えても最低限、$0.2*0.1+0.8*0.9=0.74$のAccuracyが得られます。このようにBaseline Accuracyは以下の様に定義できます。\n",
        "$$\n",
        "p_e=\\frac{1}{N^2}\\sum_kn_{k1}n_{k2}\n",
        "$$\n",
        "ここで$k$は予測したカテゴリ値、$n_{k1}$、$n_{k2}$はそれぞれカテゴリkの予測した数、ターゲット内の数を示します。\n",
        "そしてKappaは\n",
        "$$\n",
        "Cohen's Kappa=1-\\frac{1-accuracy}{1-p_e}\n",
        "$$\n",
        "または\n",
        "$$\n",
        "Cohen's Kappa=1-\\frac{error}{baseline error} \n",
        "$$\n",
        "と表されます。"
      ]
    },
    {
      "cell_type": "markdown",
      "metadata": {
        "id": "fdYrmLZeEO44",
        "colab_type": "text"
      },
      "source": [
        "### Weighted Kappa\n",
        "この$error$と$baseline error$に関して与えられた重みでscalingしたものがこの指標です。例えば猫を犬と間違えたらそれは万死に値すると考える人によって、予測値犬、ターゲット猫に対応する重みは100000と設定されるとそこのペナルティが大きくなるのは明白ですね。この重み付けの種類によって以下のように名前が変わります。\n",
        "\n",
        "Linear weights\n",
        "$$\n",
        "w_{ij}=|i-j|\n",
        "$$\n",
        "Quadratic weights\n",
        "$$\n",
        "w_{ij}=(i-j)^2\n",
        "$$\n",
        "ここでi、jはそれぞれターゲット、予測のクラス値です。比較的データサイエンスコンペティションで使われる指標であるQuadratic Weighted Kappaは予測値とターゲットの距離をerrorと捉えたMSEのような側面も持ち合わせていることが分かります。"
      ]
    },
    {
      "cell_type": "markdown",
      "metadata": {
        "id": "4-gLyirkxq1v",
        "colab_type": "text"
      },
      "source": [
        "### 最適化の仕方（Quadratic Weighted Kappa）\n",
        "目的関数そのままで扱うことは難しいため、以下のステップが必要となります。\n",
        "1. MSEを評価指標に設定しモデルを最適化 \n",
        "2. Accuracyが最大となるように閾値を調節\n",
        "\n",
        "または、\n",
        "1. 微分可能な近似関数を設計\n",
        "2. GBDT（Gradient Boosting Decision Tree）やNeural net系のモデルに設計した関数を目的関数として設定し最適化\n",
        "\n",
        "前者の方が行いやすいです。また、後者の近似関数の参考として以下の[論文](https://arxiv.org/abs/1509.07107)があります。\n",
        "詳しくは各ライブラリのdocを読みましょう。\n"
      ]
    },
    {
      "cell_type": "markdown",
      "metadata": {
        "id": "9zhLG05-PEPH",
        "colab_type": "text"
      },
      "source": [
        "# 最後に\n",
        "結構盛沢山の評価指標ですが、基本的にKaggleではコンペティションの指定した評価指標について最良のスコアを目指すだけです。しかし、現実社会の問題を考える時に、データや問題の特性に対応した最適な評価指標があります。自分で評価指標を決定しその指標に対してモデルを最適化するデータサイエンスの基本を知ることは広く役に立つと考えます。"
      ]
    },
    {
      "cell_type": "markdown",
      "metadata": {
        "id": "GThrx5Z6ecIS",
        "colab_type": "text"
      },
      "source": [
        "{{ '[『How to Win a Data Science Competition: Learn from Top Kagglers』(National Research University Higher School of Economics, week3)](https://www.coursera.org/learn/competitive-data-science)' | fndetail: 1 }}"
      ]
    }
  ],
  "metadata": {
    "colab": {
      "name": "2020-04-05-Kaggle_Part1.ipynb",
      "provenance": [],
      "collapsed_sections": [
        "43FucmyQRIMr",
        "ffuEULyQxOyG"
      ]
    },
    "kernelspec": {
      "name": "python3",
      "display_name": "Python 3"
    }
  },
  "nbformat": 4,
  "nbformat_minor": 0
}